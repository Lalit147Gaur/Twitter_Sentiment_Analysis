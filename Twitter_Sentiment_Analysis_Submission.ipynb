{
 "cells": [
  {
   "cell_type": "code",
   "execution_count": 2,
   "metadata": {
    "_cell_guid": "b1076dfc-b9ad-4769-8c92-a6c4dae69d19",
    "_uuid": "8f2839f25d086af736a60e9eeb907d3b93b6e0e5",
    "colab": {
     "base_uri": "https://localhost:8080/",
     "height": 68
    },
    "colab_type": "code",
    "id": "A-Xk_PcKcjwk",
    "outputId": "a04c8433-f1bf-41ff-9f6d-9fc68878e6fa"
   },
   "outputs": [
    {
     "name": "stderr",
     "output_type": "stream",
     "text": [
      "[nltk_data] Downloading package stopwords to\n",
      "[nltk_data]     C:\\Users\\lalit.gaur\\AppData\\Roaming\\nltk_data...\n",
      "[nltk_data]   Package stopwords is already up-to-date!\n"
     ]
    },
    {
     "data": {
      "text/plain": [
       "True"
      ]
     },
     "execution_count": 2,
     "metadata": {},
     "output_type": "execute_result"
    }
   ],
   "source": [
    "# Importing required packages\n",
    "\n",
    "\n",
    "import warnings\n",
    "warnings.filterwarnings('ignore')\n",
    "\n",
    "import numpy as np\n",
    "import pandas as pd\n",
    "import seaborn as sns\n",
    "import re\n",
    "\n",
    "from sklearn.model_selection import train_test_split\n",
    "from sklearn.svm import SVC\n",
    "from sklearn import metrics\n",
    "from sklearn.metrics import accuracy_score, f1_score\n",
    "from sklearn.feature_extraction.text import CountVectorizer, TfidfVectorizer, HashingVectorizer, TfidfTransformer\n",
    "from sklearn.model_selection import GridSearchCV\n",
    "\n",
    "\n",
    "\n",
    "\n",
    "import nltk\n",
    "nltk.download(\"stopwords\")"
   ]
  },
  {
   "cell_type": "markdown",
   "metadata": {
    "colab_type": "text",
    "id": "bc_HR-8fSWBB"
   },
   "source": [
    "## Reading Data"
   ]
  },
  {
   "cell_type": "code",
   "execution_count": 3,
   "metadata": {},
   "outputs": [],
   "source": [
    "pd.set_option('max_colwidth', None)"
   ]
  },
  {
   "cell_type": "code",
   "execution_count": 4,
   "metadata": {
    "_cell_guid": "79c7e3d0-c299-4dcb-8224-4455121ee9b0",
    "_uuid": "d629ff2d2480ee46fbb7e2d37f6b5fab8052498a",
    "colab": {},
    "colab_type": "code",
    "id": "C6XbBMfGcjwn"
   },
   "outputs": [],
   "source": [
    "train = pd.read_csv(r\"D:\\Task\\Analytics_Vidhya\\Twitter_Sentiment_Analysis\\train_E6oV3lV.csv\")\n",
    "test = pd.read_csv(r\"D:\\Task\\Analytics_Vidhya\\Twitter_Sentiment_Analysis\\test_tweets_anuFYb8.csv\")"
   ]
  },
  {
   "cell_type": "markdown",
   "metadata": {
    "colab_type": "text",
    "id": "IQgANrYFsXM8"
   },
   "source": [
    "## EDA - Exploratory Data Analysis"
   ]
  },
  {
   "cell_type": "code",
   "execution_count": 5,
   "metadata": {
    "colab": {
     "base_uri": "https://localhost:8080/",
     "height": 153
    },
    "colab_type": "code",
    "id": "wdxBIu05g_Gd",
    "outputId": "baa408e2-fcce-4125-f2bc-03b2aebf6ab7"
   },
   "outputs": [
    {
     "name": "stdout",
     "output_type": "stream",
     "text": [
      "<class 'pandas.core.frame.DataFrame'>\n",
      "RangeIndex: 31962 entries, 0 to 31961\n",
      "Data columns (total 3 columns):\n",
      " #   Column  Non-Null Count  Dtype \n",
      "---  ------  --------------  ----- \n",
      " 0   id      31962 non-null  int64 \n",
      " 1   label   31962 non-null  int64 \n",
      " 2   tweet   31962 non-null  object\n",
      "dtypes: int64(2), object(1)\n",
      "memory usage: 749.2+ KB\n"
     ]
    }
   ],
   "source": [
    "train.info()"
   ]
  },
  {
   "cell_type": "code",
   "execution_count": 6,
   "metadata": {
    "colab": {
     "base_uri": "https://localhost:8080/",
     "height": 85
    },
    "colab_type": "code",
    "id": "d0hPPosmTpYM",
    "outputId": "660aa9e4-7e0b-4ebf-b324-11e20b3dc3b7"
   },
   "outputs": [
    {
     "data": {
      "text/plain": [
       "id       0\n",
       "label    0\n",
       "tweet    0\n",
       "dtype: int64"
      ]
     },
     "execution_count": 6,
     "metadata": {},
     "output_type": "execute_result"
    }
   ],
   "source": [
    "# Checking for NULL/missing values\n",
    "train.isnull().sum()"
   ]
  },
  {
   "cell_type": "code",
   "execution_count": 7,
   "metadata": {},
   "outputs": [
    {
     "data": {
      "text/html": [
       "<div>\n",
       "<style scoped>\n",
       "    .dataframe tbody tr th:only-of-type {\n",
       "        vertical-align: middle;\n",
       "    }\n",
       "\n",
       "    .dataframe tbody tr th {\n",
       "        vertical-align: top;\n",
       "    }\n",
       "\n",
       "    .dataframe thead th {\n",
       "        text-align: right;\n",
       "    }\n",
       "</style>\n",
       "<table border=\"1\" class=\"dataframe\">\n",
       "  <thead>\n",
       "    <tr style=\"text-align: right;\">\n",
       "      <th></th>\n",
       "      <th>id</th>\n",
       "      <th>label</th>\n",
       "      <th>tweet</th>\n",
       "    </tr>\n",
       "  </thead>\n",
       "  <tbody>\n",
       "    <tr>\n",
       "      <th>0</th>\n",
       "      <td>1</td>\n",
       "      <td>0</td>\n",
       "      <td>@user when a father is dysfunctional and is so selfish he drags his kids into his dysfunction.   #run</td>\n",
       "    </tr>\n",
       "    <tr>\n",
       "      <th>1</th>\n",
       "      <td>2</td>\n",
       "      <td>0</td>\n",
       "      <td>@user @user thanks for #lyft credit i can't use cause they don't offer wheelchair vans in pdx.    #disapointed #getthanked</td>\n",
       "    </tr>\n",
       "    <tr>\n",
       "      <th>2</th>\n",
       "      <td>3</td>\n",
       "      <td>0</td>\n",
       "      <td>bihday your majesty</td>\n",
       "    </tr>\n",
       "    <tr>\n",
       "      <th>3</th>\n",
       "      <td>4</td>\n",
       "      <td>0</td>\n",
       "      <td>#model   i love u take with u all the time in urð±!!! ðððð",
       "ð¦ð¦ð¦</td>\n",
       "    </tr>\n",
       "    <tr>\n",
       "      <th>4</th>\n",
       "      <td>5</td>\n",
       "      <td>0</td>\n",
       "      <td>factsguide: society now    #motivation</td>\n",
       "    </tr>\n",
       "  </tbody>\n",
       "</table>\n",
       "</div>"
      ],
      "text/plain": [
       "   id  label  \\\n",
       "0   1      0   \n",
       "1   2      0   \n",
       "2   3      0   \n",
       "3   4      0   \n",
       "4   5      0   \n",
       "\n",
       "                                                                                                                        tweet  \n",
       "0                       @user when a father is dysfunctional and is so selfish he drags his kids into his dysfunction.   #run  \n",
       "1  @user @user thanks for #lyft credit i can't use cause they don't offer wheelchair vans in pdx.    #disapointed #getthanked  \n",
       "2                                                                                                         bihday your majesty  \n",
       "3                                      #model   i love u take with u all the time in urð±!!! ðððð\n",
       "ð¦ð¦ð¦    \n",
       "4                                                                                      factsguide: society now    #motivation  "
      ]
     },
     "execution_count": 7,
     "metadata": {},
     "output_type": "execute_result"
    }
   ],
   "source": [
    "train.head()"
   ]
  },
  {
   "cell_type": "code",
   "execution_count": 10,
   "metadata": {
    "colab": {},
    "colab_type": "code",
    "id": "4xvmZVK6SFog"
   },
   "outputs": [],
   "source": [
    "from nltk import word_tokenize\n",
    "from nltk.corpus import stopwords\n",
    "stop_words = stopwords.words('english')\n",
    "\n",
    "def remove_stopwords(string):\n",
    "    word_list = [word.lower() for word in string.split()]\n",
    "    stopwords_list = list(stopwords.words(\"english\"))\n",
    "    for word in word_list:\n",
    "        if word in stopwords_list:\n",
    "            word_list.remove(word)\n",
    "    return ' '.join(word_list)\n"
   ]
  },
  {
   "cell_type": "code",
   "execution_count": 8,
   "metadata": {
    "colab": {
     "base_uri": "https://localhost:8080/",
     "height": 359
    },
    "colab_type": "code",
    "id": "oo14gnaBcjwp",
    "outputId": "f11bf044-66ea-4ae3-e1d6-9a9fc0c75c8f"
   },
   "outputs": [
    {
     "data": {
      "text/html": [
       "<div>\n",
       "<style scoped>\n",
       "    .dataframe tbody tr th:only-of-type {\n",
       "        vertical-align: middle;\n",
       "    }\n",
       "\n",
       "    .dataframe tbody tr th {\n",
       "        vertical-align: top;\n",
       "    }\n",
       "\n",
       "    .dataframe thead th {\n",
       "        text-align: right;\n",
       "    }\n",
       "</style>\n",
       "<table border=\"1\" class=\"dataframe\">\n",
       "  <thead>\n",
       "    <tr style=\"text-align: right;\">\n",
       "      <th></th>\n",
       "      <th>id</th>\n",
       "      <th>label</th>\n",
       "      <th>tweet</th>\n",
       "    </tr>\n",
       "  </thead>\n",
       "  <tbody>\n",
       "    <tr>\n",
       "      <th>0</th>\n",
       "      <td>1</td>\n",
       "      <td>0</td>\n",
       "      <td>@user when a father is dysfunctional and is so selfish he drags his kids into his dysfunction.   #run</td>\n",
       "    </tr>\n",
       "    <tr>\n",
       "      <th>1</th>\n",
       "      <td>2</td>\n",
       "      <td>0</td>\n",
       "      <td>@user @user thanks for #lyft credit i can't use cause they don't offer wheelchair vans in pdx.    #disapointed #getthanked</td>\n",
       "    </tr>\n",
       "    <tr>\n",
       "      <th>2</th>\n",
       "      <td>3</td>\n",
       "      <td>0</td>\n",
       "      <td>bihday your majesty</td>\n",
       "    </tr>\n",
       "    <tr>\n",
       "      <th>3</th>\n",
       "      <td>4</td>\n",
       "      <td>0</td>\n",
       "      <td>#model   i love u take with u all the time in urð±!!! ðððð",
       "ð¦ð¦ð¦</td>\n",
       "    </tr>\n",
       "    <tr>\n",
       "      <th>4</th>\n",
       "      <td>5</td>\n",
       "      <td>0</td>\n",
       "      <td>factsguide: society now    #motivation</td>\n",
       "    </tr>\n",
       "  </tbody>\n",
       "</table>\n",
       "</div>"
      ],
      "text/plain": [
       "   id  label  \\\n",
       "0   1      0   \n",
       "1   2      0   \n",
       "2   3      0   \n",
       "3   4      0   \n",
       "4   5      0   \n",
       "\n",
       "                                                                                                                        tweet  \n",
       "0                       @user when a father is dysfunctional and is so selfish he drags his kids into his dysfunction.   #run  \n",
       "1  @user @user thanks for #lyft credit i can't use cause they don't offer wheelchair vans in pdx.    #disapointed #getthanked  \n",
       "2                                                                                                         bihday your majesty  \n",
       "3                                      #model   i love u take with u all the time in urð±!!! ðððð\n",
       "ð¦ð¦ð¦    \n",
       "4                                                                                      factsguide: society now    #motivation  "
      ]
     },
     "execution_count": 8,
     "metadata": {},
     "output_type": "execute_result"
    }
   ],
   "source": [
    "train.head()"
   ]
  },
  {
   "cell_type": "code",
   "execution_count": 11,
   "metadata": {
    "colab": {
     "base_uri": "https://localhost:8080/",
     "height": 359
    },
    "colab_type": "code",
    "id": "vwkgyReVqdYR",
    "outputId": "be3e0a64-5c2e-4a9e-ed5b-ceea7c7af0db"
   },
   "outputs": [
    {
     "data": {
      "text/html": [
       "<div>\n",
       "<style scoped>\n",
       "    .dataframe tbody tr th:only-of-type {\n",
       "        vertical-align: middle;\n",
       "    }\n",
       "\n",
       "    .dataframe tbody tr th {\n",
       "        vertical-align: top;\n",
       "    }\n",
       "\n",
       "    .dataframe thead th {\n",
       "        text-align: right;\n",
       "    }\n",
       "</style>\n",
       "<table border=\"1\" class=\"dataframe\">\n",
       "  <thead>\n",
       "    <tr style=\"text-align: right;\">\n",
       "      <th></th>\n",
       "      <th>id</th>\n",
       "      <th>label</th>\n",
       "      <th>tweet</th>\n",
       "      <th>tweet_length</th>\n",
       "    </tr>\n",
       "  </thead>\n",
       "  <tbody>\n",
       "    <tr>\n",
       "      <th>0</th>\n",
       "      <td>1</td>\n",
       "      <td>0</td>\n",
       "      <td>user father dysfunctional is selfish drags kids his dysfunction run</td>\n",
       "      <td>95</td>\n",
       "    </tr>\n",
       "    <tr>\n",
       "      <th>1</th>\n",
       "      <td>2</td>\n",
       "      <td>0</td>\n",
       "      <td>user user thanks lyft credit use cause don offer wheelchair vans pdx disapointed getthanked</td>\n",
       "      <td>108</td>\n",
       "    </tr>\n",
       "    <tr>\n",
       "      <th>2</th>\n",
       "      <td>3</td>\n",
       "      <td>0</td>\n",
       "      <td>bihday majesty</td>\n",
       "      <td>20</td>\n",
       "    </tr>\n",
       "    <tr>\n",
       "      <th>3</th>\n",
       "      <td>4</td>\n",
       "      <td>0</td>\n",
       "      <td>model love take all time urð ð ð ð ð ð ð ð</td>\n",
       "      <td>56</td>\n",
       "    </tr>\n",
       "    <tr>\n",
       "      <th>4</th>\n",
       "      <td>5</td>\n",
       "      <td>0</td>\n",
       "      <td>factsguide society motivation</td>\n",
       "      <td>34</td>\n",
       "    </tr>\n",
       "    <tr>\n",
       "      <th>5</th>\n",
       "      <td>6</td>\n",
       "      <td>0</td>\n",
       "      <td>would would huge fan fare big talking they leave chaos pay disputes they get allshowandnogo</td>\n",
       "      <td>121</td>\n",
       "    </tr>\n",
       "    <tr>\n",
       "      <th>6</th>\n",
       "      <td>7</td>\n",
       "      <td>0</td>\n",
       "      <td>user camping tomorrow user user user user user user user dannyâ</td>\n",
       "      <td>65</td>\n",
       "    </tr>\n",
       "    <tr>\n",
       "      <th>7</th>\n",
       "      <td>8</td>\n",
       "      <td>0</td>\n",
       "      <td>next school year the year exams ð think that ð school exams hate imagine actorslife revolutionschool girl</td>\n",
       "      <td>126</td>\n",
       "    </tr>\n",
       "    <tr>\n",
       "      <th>8</th>\n",
       "      <td>9</td>\n",
       "      <td>0</td>\n",
       "      <td>won love land allin cavs champions cleveland clevelandcavaliers â</td>\n",
       "      <td>73</td>\n",
       "    </tr>\n",
       "    <tr>\n",
       "      <th>9</th>\n",
       "      <td>10</td>\n",
       "      <td>0</td>\n",
       "      <td>user user welcome it gr would</td>\n",
       "      <td>41</td>\n",
       "    </tr>\n",
       "  </tbody>\n",
       "</table>\n",
       "</div>"
      ],
      "text/plain": [
       "   id  label  \\\n",
       "0   1      0   \n",
       "1   2      0   \n",
       "2   3      0   \n",
       "3   4      0   \n",
       "4   5      0   \n",
       "5   6      0   \n",
       "6   7      0   \n",
       "7   8      0   \n",
       "8   9      0   \n",
       "9  10      0   \n",
       "\n",
       "                                                                                                       tweet  \\\n",
       "0                                        user father dysfunctional is selfish drags kids his dysfunction run   \n",
       "1                user user thanks lyft credit use cause don offer wheelchair vans pdx disapointed getthanked   \n",
       "2                                                                                             bihday majesty   \n",
       "3                                                                 model love take all time urð ð ð ð ð ð ð ð   \n",
       "4                                                                              factsguide society motivation   \n",
       "5                would would huge fan fare big talking they leave chaos pay disputes they get allshowandnogo   \n",
       "6                                            user camping tomorrow user user user user user user user dannyâ   \n",
       "7  next school year the year exams ð think that ð school exams hate imagine actorslife revolutionschool girl   \n",
       "8                                          won love land allin cavs champions cleveland clevelandcavaliers â   \n",
       "9                                                                              user user welcome it gr would   \n",
       "\n",
       "   tweet_length  \n",
       "0            95  \n",
       "1           108  \n",
       "2            20  \n",
       "3            56  \n",
       "4            34  \n",
       "5           121  \n",
       "6            65  \n",
       "7           126  \n",
       "8            73  \n",
       "9            41  "
      ]
     },
     "execution_count": 11,
     "metadata": {},
     "output_type": "execute_result"
    }
   ],
   "source": [
    "train['tweet_length'] = train['tweet'].apply(len)\n",
    "train['tweet'] = train['tweet'].map(lambda x: re.sub('\\\\n',' ',str(x)))\n",
    "train['tweet'] = train['tweet'].map(lambda x: re.sub(r'\\W',' ',str(x)))\n",
    "train['tweet'] = train['tweet'].map(lambda x: re.sub(r'https\\s+|www.\\s+',r'', str(x)))\n",
    "train['tweet'] = train['tweet'].map(lambda x: re.sub(r'http\\s+|www.\\s+',r'', str(x)))\n",
    "train['tweet'] = train['tweet'].map(lambda x: re.sub(r'\\s+[a-zA-Z]\\s+',' ',str(x)))\n",
    "train['tweet'] = train['tweet'].map(lambda x: re.sub(r'\\^[a-zA-Z]\\s+',' ',str(x)))\n",
    "train['tweet'] = train['tweet'].map(lambda x: re.sub(r'\\s+',' ',str(x)))\n",
    "train['tweet'] = train['tweet'].str.lower()\n",
    "\n",
    "train['tweet'] = train['tweet'].map(lambda x: re.sub(r\"\\’\", \"\\'\", str(x)))\n",
    "train['tweet'] = train['tweet'].map(lambda x: re.sub(r\"won\\'t\", \"will not\", str(x)))\n",
    "train['tweet'] = train['tweet'].map(lambda x: re.sub(r\"can\\'t\", \"can not\", str(x)))\n",
    "train['tweet'] = train['tweet'].map(lambda x: re.sub(r\"don\\'t\", \"do not\", str(x)))\n",
    "train['tweet'] = train['tweet'].map(lambda x: re.sub(r\"dont\", \"do not\", str(x)))\n",
    "train['tweet'] = train['tweet'].map(lambda x: re.sub(r\"n\\’t\", \" not\", str(x)))\n",
    "train['tweet'] = train['tweet'].map(lambda x: re.sub(r\"n\\'t\", \" not\", str(x)))\n",
    "train['tweet'] = train['tweet'].map(lambda x: re.sub(r\"\\'re\", \" are\", str(x)))\n",
    "train['tweet'] = train['tweet'].map(lambda x: re.sub(r\"\\'s\", \" is\", str(x)))\n",
    "train['tweet'] = train['tweet'].map(lambda x: re.sub(r\"\\’d\", \" would\", str(x)))\n",
    "train['tweet'] = train['tweet'].map(lambda x: re.sub(r\"\\d\", \" would\", str(x)))\n",
    "train['tweet'] = train['tweet'].map(lambda x: re.sub(r\"\\'ll\", \" will\", str(x)))\n",
    "train['tweet'] = train['tweet'].map(lambda x: re.sub(r\"\\'t\", \" not\", str(x)))\n",
    "train['tweet'] = train['tweet'].map(lambda x: re.sub(r\"\\'ve\", \" have\", str(x)))\n",
    "train['tweet'] = train['tweet'].map(lambda x: re.sub(r\"\\'m\", \" am\", str(x)))\n",
    "train['tweet'] = train['tweet'].map(lambda x: re.sub(r\"\\n\", \"\", str(x)))\n",
    "train['tweet'] = train['tweet'].map(lambda x: re.sub(r\"\\r\", \"\", str(x)))\n",
    "train['tweet'] = train['tweet'].map(lambda x: re.sub(r\"[0-9]\", \"digit\", str(x)))\n",
    "train['tweet'] = train['tweet'].map(lambda x: re.sub(r\"\\'\", \"\", str(x)))\n",
    "train['tweet'] = train['tweet'].map(lambda x: re.sub(r\"\\\"\", \"\", str(x)))\n",
    "train['tweet'] = train['tweet'].map(lambda x: re.sub(r'[?|!|\\'|\"|#]',r'', str(x)))\n",
    "train['tweet'] = train['tweet'].map(lambda x: re.sub(r'[.|,|)|(|\\|/]',r' ', str(x)))\n",
    "train['tweet'] = train['tweet'].apply(lambda x: remove_stopwords(x))\n",
    "train.head(10)"
   ]
  },
  {
   "cell_type": "code",
   "execution_count": 12,
   "metadata": {
    "colab": {
     "base_uri": "https://localhost:8080/",
     "height": 136
    },
    "colab_type": "code",
    "id": "tFPW5RVccjwt",
    "outputId": "8f6d23f2-4488-4aa9-c90a-8bc21a6e79ce"
   },
   "outputs": [
    {
     "name": "stdout",
     "output_type": "stream",
     "text": [
      "<class 'pandas.core.frame.DataFrame'>\n",
      "RangeIndex: 17197 entries, 0 to 17196\n",
      "Data columns (total 2 columns):\n",
      " #   Column  Non-Null Count  Dtype \n",
      "---  ------  --------------  ----- \n",
      " 0   id      17197 non-null  int64 \n",
      " 1   tweet   17197 non-null  object\n",
      "dtypes: int64(1), object(1)\n",
      "memory usage: 268.8+ KB\n"
     ]
    }
   ],
   "source": [
    "test.info()"
   ]
  },
  {
   "cell_type": "code",
   "execution_count": 13,
   "metadata": {
    "colab": {
     "base_uri": "https://localhost:8080/",
     "height": 359
    },
    "colab_type": "code",
    "id": "QLoZdYqDcjwr",
    "outputId": "45827c77-ce86-4168-91a3-2ab36a00739e"
   },
   "outputs": [
    {
     "data": {
      "text/html": [
       "<div>\n",
       "<style scoped>\n",
       "    .dataframe tbody tr th:only-of-type {\n",
       "        vertical-align: middle;\n",
       "    }\n",
       "\n",
       "    .dataframe tbody tr th {\n",
       "        vertical-align: top;\n",
       "    }\n",
       "\n",
       "    .dataframe thead th {\n",
       "        text-align: right;\n",
       "    }\n",
       "</style>\n",
       "<table border=\"1\" class=\"dataframe\">\n",
       "  <thead>\n",
       "    <tr style=\"text-align: right;\">\n",
       "      <th></th>\n",
       "      <th>id</th>\n",
       "      <th>tweet</th>\n",
       "    </tr>\n",
       "  </thead>\n",
       "  <tbody>\n",
       "    <tr>\n",
       "      <th>17192</th>\n",
       "      <td>49155</td>\n",
       "      <td>thought factory: left-right polarisation! #trump #uselections2016 #leadership #politics  #brexit #blm &amp;gt;3</td>\n",
       "    </tr>\n",
       "    <tr>\n",
       "      <th>17193</th>\n",
       "      <td>49156</td>\n",
       "      <td>feeling like a mermaid ð #hairflip #neverready #formal #wedding #gown #dresses #mermaid  â¦</td>\n",
       "    </tr>\n",
       "    <tr>\n",
       "      <th>17194</th>\n",
       "      <td>49157</td>\n",
       "      <td>#hillary #campaigned today in #ohio((omg)) &amp;amp; used words like \"assets&amp;amp;liability\" never once did #clinton say thee(word) #radicalization</td>\n",
       "    </tr>\n",
       "    <tr>\n",
       "      <th>17195</th>\n",
       "      <td>49158</td>\n",
       "      <td>happy, at work conference: right mindset leads to culture-of-development organizations    #work #mindset</td>\n",
       "    </tr>\n",
       "    <tr>\n",
       "      <th>17196</th>\n",
       "      <td>49159</td>\n",
       "      <td>my   song \"so glad\" free download!  #shoegaze #newmusic #newsong</td>\n",
       "    </tr>\n",
       "  </tbody>\n",
       "</table>\n",
       "</div>"
      ],
      "text/plain": [
       "          id  \\\n",
       "17192  49155   \n",
       "17193  49156   \n",
       "17194  49157   \n",
       "17195  49158   \n",
       "17196  49159   \n",
       "\n",
       "                                                                                                                                                   tweet  \n",
       "17192                                       thought factory: left-right polarisation! #trump #uselections2016 #leadership #politics  #brexit #blm &gt;3   \n",
       "17193                                                   feeling like a mermaid ð #hairflip #neverready #formal #wedding #gown #dresses #mermaid  â¦   \n",
       "17194  #hillary #campaigned today in #ohio((omg)) &amp; used words like \"assets&amp;liability\" never once did #clinton say thee(word) #radicalization     \n",
       "17195                                           happy, at work conference: right mindset leads to culture-of-development organizations    #work #mindset  \n",
       "17196                                                                                   my   song \"so glad\" free download!  #shoegaze #newmusic #newsong  "
      ]
     },
     "execution_count": 13,
     "metadata": {},
     "output_type": "execute_result"
    }
   ],
   "source": [
    "test.tail()"
   ]
  },
  {
   "cell_type": "code",
   "execution_count": 14,
   "metadata": {
    "colab": {
     "base_uri": "https://localhost:8080/",
     "height": 359
    },
    "colab_type": "code",
    "id": "d0mzSVv_7q8g",
    "outputId": "7caf12b0-42db-4587-c797-24eefa62e5dd"
   },
   "outputs": [
    {
     "data": {
      "text/html": [
       "<div>\n",
       "<style scoped>\n",
       "    .dataframe tbody tr th:only-of-type {\n",
       "        vertical-align: middle;\n",
       "    }\n",
       "\n",
       "    .dataframe tbody tr th {\n",
       "        vertical-align: top;\n",
       "    }\n",
       "\n",
       "    .dataframe thead th {\n",
       "        text-align: right;\n",
       "    }\n",
       "</style>\n",
       "<table border=\"1\" class=\"dataframe\">\n",
       "  <thead>\n",
       "    <tr style=\"text-align: right;\">\n",
       "      <th></th>\n",
       "      <th>id</th>\n",
       "      <th>tweet</th>\n",
       "    </tr>\n",
       "  </thead>\n",
       "  <tbody>\n",
       "    <tr>\n",
       "      <th>17187</th>\n",
       "      <td>49150</td>\n",
       "      <td>loving lifeð ºð â ï ð createyourfuture lifestyle holiday la hyatt regency long beach</td>\n",
       "    </tr>\n",
       "    <tr>\n",
       "      <th>17188</th>\n",
       "      <td>49151</td>\n",
       "      <td>black professor demonizes proposes nazi style confiscation white assets like would would would would germany breaking</td>\n",
       "    </tr>\n",
       "    <tr>\n",
       "      <th>17189</th>\n",
       "      <td>49152</td>\n",
       "      <td>learn to think positive positive instagram instagood</td>\n",
       "    </tr>\n",
       "    <tr>\n",
       "      <th>17190</th>\n",
       "      <td>49153</td>\n",
       "      <td>love pretty happy fresh teenilicious fixdermateen generationz pretty fresh</td>\n",
       "    </tr>\n",
       "    <tr>\n",
       "      <th>17191</th>\n",
       "      <td>49154</td>\n",
       "      <td>would_damn_tuff ruff_muff__techno_city ng would would would web would would would would ukhx_int web hardcore wouldgabba vk</td>\n",
       "    </tr>\n",
       "    <tr>\n",
       "      <th>17192</th>\n",
       "      <td>49155</td>\n",
       "      <td>thought factory left right polarisation trump uselections would would would would leadership politics brexit blm gt would</td>\n",
       "    </tr>\n",
       "    <tr>\n",
       "      <th>17193</th>\n",
       "      <td>49156</td>\n",
       "      <td>feeling like mermaid ð hairflip neverready formal wedding gown dresses mermaid â</td>\n",
       "    </tr>\n",
       "    <tr>\n",
       "      <th>17194</th>\n",
       "      <td>49157</td>\n",
       "      <td>hillary campaigned today ohio omg amp used words like assets amp liability never did clinton say thee word radicalization</td>\n",
       "    </tr>\n",
       "    <tr>\n",
       "      <th>17195</th>\n",
       "      <td>49158</td>\n",
       "      <td>happy work conference right mindset leads culture development organizations work mindset</td>\n",
       "    </tr>\n",
       "    <tr>\n",
       "      <th>17196</th>\n",
       "      <td>49159</td>\n",
       "      <td>song glad free download shoegaze newmusic newsong</td>\n",
       "    </tr>\n",
       "  </tbody>\n",
       "</table>\n",
       "</div>"
      ],
      "text/plain": [
       "          id  \\\n",
       "17187  49150   \n",
       "17188  49151   \n",
       "17189  49152   \n",
       "17190  49153   \n",
       "17191  49154   \n",
       "17192  49155   \n",
       "17193  49156   \n",
       "17194  49157   \n",
       "17195  49158   \n",
       "17196  49159   \n",
       "\n",
       "                                                                                                                             tweet  \n",
       "17187                                         loving lifeð ºð â ï ð createyourfuture lifestyle holiday la hyatt regency long beach  \n",
       "17188        black professor demonizes proposes nazi style confiscation white assets like would would would would germany breaking  \n",
       "17189                                                                         learn to think positive positive instagram instagood  \n",
       "17190                                                   love pretty happy fresh teenilicious fixdermateen generationz pretty fresh  \n",
       "17191  would_damn_tuff ruff_muff__techno_city ng would would would web would would would would ukhx_int web hardcore wouldgabba vk  \n",
       "17192    thought factory left right polarisation trump uselections would would would would leadership politics brexit blm gt would  \n",
       "17193                                             feeling like mermaid ð hairflip neverready formal wedding gown dresses mermaid â  \n",
       "17194    hillary campaigned today ohio omg amp used words like assets amp liability never did clinton say thee word radicalization  \n",
       "17195                                     happy work conference right mindset leads culture development organizations work mindset  \n",
       "17196                                                                            song glad free download shoegaze newmusic newsong  "
      ]
     },
     "execution_count": 14,
     "metadata": {},
     "output_type": "execute_result"
    }
   ],
   "source": [
    "test['tweet'] = test['tweet'].map(lambda x: re.sub('\\\\n',' ',str(x)))\n",
    "test['tweet'] = test['tweet'].map(lambda x: re.sub(r'\\W',' ',str(x)))\n",
    "test['tweet'] = test['tweet'].map(lambda x: re.sub(r'\\s+[a-zA-Z]\\s+',' ',str(x)))\n",
    "test['tweet'] = test['tweet'].map(lambda x: re.sub(r'\\^[a-zA-Z]\\s+',' ',str(x)))\n",
    "test['tweet'] = test['tweet'].map(lambda x: re.sub(r'\\s+',' ',str(x)))\n",
    "test['tweet'] = test['tweet'].str.lower()\n",
    "\n",
    "test['tweet'] = test['tweet'].map(lambda x: re.sub(r\"\\’\", \"\\'\", str(x)))\n",
    "test['tweet'] = test['tweet'].map(lambda x: re.sub(r\"won\\'t\", \"will not\", str(x)))\n",
    "test['tweet'] = test['tweet'].map(lambda x: re.sub(r\"can\\'t\", \"can not\", str(x)))\n",
    "test['tweet'] = test['tweet'].map(lambda x: re.sub(r\"don\\'t\", \"do not\", str(x)))\n",
    "test['tweet'] = test['tweet'].map(lambda x: re.sub(r\"dont\", \"do not\", str(x)))\n",
    "test['tweet'] = test['tweet'].map(lambda x: re.sub(r\"n\\’t\", \" not\", str(x)))\n",
    "test['tweet'] = test['tweet'].map(lambda x: re.sub(r\"n\\'t\", \" not\", str(x)))\n",
    "test['tweet'] = test['tweet'].map(lambda x: re.sub(r\"\\'re\", \" are\", str(x)))\n",
    "test['tweet'] = test['tweet'].map(lambda x: re.sub(r\"\\'s\", \" is\", str(x)))\n",
    "test['tweet'] = test['tweet'].map(lambda x: re.sub(r\"\\’d\", \" would\", str(x)))\n",
    "test['tweet'] = test['tweet'].map(lambda x: re.sub(r\"\\d\", \" would\", str(x)))\n",
    "test['tweet'] = test['tweet'].map(lambda x: re.sub(r\"\\'ll\", \" will\", str(x)))\n",
    "test['tweet'] = test['tweet'].map(lambda x: re.sub(r\"\\'t\", \" not\", str(x)))\n",
    "test['tweet'] = test['tweet'].map(lambda x: re.sub(r\"\\'ve\", \" have\", str(x)))\n",
    "test['tweet'] = test['tweet'].map(lambda x: re.sub(r\"\\'m\", \" am\", str(x)))\n",
    "test['tweet'] = test['tweet'].map(lambda x: re.sub(r\"\\n\", \"\", str(x)))\n",
    "test['tweet'] = test['tweet'].map(lambda x: re.sub(r\"\\r\", \"\", str(x)))\n",
    "test['tweet'] = test['tweet'].map(lambda x: re.sub(r\"[0-9]\", \"digit\", str(x)))\n",
    "test['tweet'] = test['tweet'].map(lambda x: re.sub(r\"\\'\", \"\", str(x)))\n",
    "test['tweet'] = test['tweet'].map(lambda x: re.sub(r\"\\\"\", \"\", str(x)))\n",
    "test['tweet'] = test['tweet'].map(lambda x: re.sub(r'[?|!|\\'|\"|#]',r'', str(x)))\n",
    "test['tweet'] = test['tweet'].map(lambda x: re.sub(r'[.|,|)|(|\\|/]',r' ', str(x)))\n",
    "test['tweet'] = test['tweet'].apply(lambda x: remove_stopwords(x))\n",
    "\n",
    "test.tail(10)"
   ]
  },
  {
   "cell_type": "markdown",
   "metadata": {
    "colab_type": "text",
    "id": "95kqxe4o2jAR"
   },
   "source": [
    "\n",
    "# **0-positive, 1-negative**"
   ]
  },
  {
   "cell_type": "code",
   "execution_count": 15,
   "metadata": {
    "colab": {
     "base_uri": "https://localhost:8080/",
     "height": 300
    },
    "colab_type": "code",
    "id": "thAdyuFWcjwv",
    "outputId": "c3aadf46-ac1f-4fe4-c0c5-4f739131bb11"
   },
   "outputs": [
    {
     "data": {
      "text/plain": [
       "<AxesSubplot:xlabel='label', ylabel='count'>"
      ]
     },
     "execution_count": 15,
     "metadata": {},
     "output_type": "execute_result"
    },
    {
     "data": {
      "image/png": "[encoded data removed]",
      "text/plain": [
       "<Figure size 432x288 with 1 Axes>"
      ]
     },
     "metadata": {
      "needs_background": "light"
     },
     "output_type": "display_data"
    }
   ],
   "source": [
    "sns.countplot(train[\"label\"])"
   ]
  },
  {
   "cell_type": "code",
   "execution_count": 16,
   "metadata": {
    "colab": {
     "base_uri": "https://localhost:8080/",
     "height": 119
    },
    "colab_type": "code",
    "id": "i4JFdNLy4oct",
    "outputId": "d8bf2a0f-ed68-4ee8-a7d0-a313abe655fb"
   },
   "outputs": [
    {
     "data": {
      "text/plain": [
       "0    0\n",
       "1    0\n",
       "2    0\n",
       "3    0\n",
       "4    0\n",
       "Name: label, dtype: int64"
      ]
     },
     "execution_count": 16,
     "metadata": {},
     "output_type": "execute_result"
    }
   ],
   "source": [
    "train2 = train.drop('label', axis=1)\n",
    "target = train[\"label\"]\n",
    "target.head()"
   ]
  },
  {
   "cell_type": "code",
   "execution_count": 17,
   "metadata": {
    "colab": {},
    "colab_type": "code",
    "id": "rYjXQJLECYoy"
   },
   "outputs": [],
   "source": [
    "x_train, x_val, y_train, y_val = train_test_split(train2, target, test_size=0.3, random_state=2019)"
   ]
  },
  {
   "cell_type": "markdown",
   "metadata": {
    "colab_type": "text",
    "id": "s3qxc46cq38Q"
   },
   "source": [
    "## Vectorize"
   ]
  },
  {
   "cell_type": "code",
   "execution_count": 18,
   "metadata": {
    "colab": {},
    "colab_type": "code",
    "id": "KGzRtCL9p3od"
   },
   "outputs": [],
   "source": [
    "import string\n",
    "\n",
    "def process_text(text):\n",
    "    '''\n",
    "    What will be covered:\n",
    "    1. Remove punctuation\n",
    "    2. Remove stopwords\n",
    "    3. Return list of clean text words\n",
    "    '''\n",
    "    \n",
    "    #1\n",
    "    nopunc = [char for char in text if char not in string.punctuation]\n",
    "    nopunc = ''.join(nopunc)\n",
    "    \n",
    "    #2\n",
    "    clean_words = [word for word in nopunc.split() if word.lower() not in stopwords.words('english')]\n",
    "    \n",
    "    #3\n",
    "    return clean_words"
   ]
  },
  {
   "cell_type": "code",
   "execution_count": 19,
   "metadata": {
    "colab": {
     "base_uri": "https://localhost:8080/",
     "height": 34
    },
    "colab_type": "code",
    "id": "alvAEQI2gsfi",
    "outputId": "97338208-4900-425f-8b68-c65829ac8c22"
   },
   "outputs": [
    {
     "data": {
      "text/plain": [
       "(31962, 23049)"
      ]
     },
     "execution_count": 19,
     "metadata": {},
     "output_type": "execute_result"
    }
   ],
   "source": [
    "# Convert all the text into vector form\n",
    "\n",
    "#vec = CountVectorizer(analyzer=process_text)\n",
    "#vec = CountVectorizer()\n",
    "#vec = CountVectorizer(stop_words='english', binary=True)\n",
    "#vec = CountVectorizer(stop_words='english', ngram_range=(1,10), analyzer='char', token_pattern=r'\\w{1,}', min_df=4)\n",
    "#vec = CountVectorizer(stop_words='english', ngram_range=(1,4), analyzer='char', min_df=4)\n",
    "#vec = CountVectorizer(analyzer='word',token_pattern=r'\\w{1,}', ngram_range=(1, 4), stop_words = 'english')\n",
    "\n",
    "#vec = TfidfVectorizer(stop_words='english')\n",
    "#vec = TfidfVectorizer(stop_words='english', sublinear_tf=True, strip_accents='unicode', analyzer='char', token_pattern=r'\\w{1,}', ngram_range=(1, 3), max_features=20000)\n",
    "#vec = TfidfVectorizer(ngram_range=(1,5), min_df=3, stop_words='english', max_df=0.9, strip_accents='unicode', use_idf=1, smooth_idf=1, sublinear_tf=1 )\n",
    "vec = TfidfVectorizer(min_df=3, max_features=None, strip_accents='unicode', analyzer='word',token_pattern=r'\\w{1,}', ngram_range=(1, 4), use_idf=1,smooth_idf=1,sublinear_tf=1, stop_words = 'english')\n",
    "\n",
    "#vec = HashingVectorizer()\n",
    "\n",
    "#X_train_counts = vec.fit_transform(x_train['tweet'])\n",
    "X_train_counts = vec.fit_transform(train['tweet'])\n",
    "\n",
    "# TF-IDF\n",
    "tfidf_transformer = TfidfTransformer()\n",
    "X_train_tfidf = tfidf_transformer.fit_transform(X_train_counts)\n",
    "X_train_tfidf.shape"
   ]
  },
  {
   "cell_type": "code",
   "execution_count": 20,
   "metadata": {
    "colab": {
     "base_uri": "https://localhost:8080/",
     "height": 34
    },
    "colab_type": "code",
    "id": "TwVZDbxq8a_1",
    "outputId": "9f5cb220-d143-48cc-c2eb-c26bee0b09a1"
   },
   "outputs": [
    {
     "name": "stdout",
     "output_type": "stream",
     "text": [
      "(9589, 23049)\n"
     ]
    }
   ],
   "source": [
    "X_val_counts = vec.transform(x_val['tweet'])\n",
    "X_val_tfidf = tfidf_transformer.transform(X_val_counts)\n",
    "print(X_val_tfidf.shape)"
   ]
  },
  {
   "cell_type": "code",
   "execution_count": 21,
   "metadata": {
    "colab": {
     "base_uri": "https://localhost:8080/",
     "height": 34
    },
    "colab_type": "code",
    "id": "ngySgGzScjwz",
    "outputId": "756b82ae-930c-424d-a85d-79b57529ed2f"
   },
   "outputs": [
    {
     "name": "stdout",
     "output_type": "stream",
     "text": [
      "(17197, 23049)\n"
     ]
    }
   ],
   "source": [
    "X_test_counts = vec.transform(test['tweet'])\n",
    "X_test_tfidf = tfidf_transformer.transform(X_test_counts)\n",
    "print(X_test_tfidf.shape)"
   ]
  },
  {
   "cell_type": "markdown",
   "metadata": {
    "colab_type": "text",
    "id": "-Y0ZFC6kUuHD"
   },
   "source": [
    "\n",
    "## Different Machine Learning Models"
   ]
  },
  {
   "cell_type": "code",
   "execution_count": 0,
   "metadata": {
    "colab": {},
    "colab_type": "code",
    "id": "sF7iT91Fd9c-"
   },
   "outputs": [],
   "source": [
    "#KNN\n",
    "# from sklearn.neighbors import KNeighborsClassifier\n",
    "# clf_knn = KNeighborsClassifier(n_neighbors=26,random_state=2019).fit(X_train_tfidf, target)\n",
    "# y_pred = clf_knn.predict(X_test_tfidf)\n",
    "# y_pred"
   ]
  },
  {
   "cell_type": "code",
   "execution_count": 0,
   "metadata": {
    "colab": {},
    "colab_type": "code",
    "id": "kNGZSOlm0x0V"
   },
   "outputs": [],
   "source": [
    "# param_grid = dict(n_neighbors=list(range(1, 31)),weights=['uniform', 'distance'])\n",
    "# print(param_grid)\n",
    "# grid = GridSearchCV(clf_knn, param_grid, cv=10, scoring='accuracy')\n",
    "# grid.fit(X_train_tfidf, target)\n",
    "# print(grid.best_estimator_)\n",
    "# print(grid.best_params_)\n",
    "# print(grid.best_score_)"
   ]
  },
  {
   "cell_type": "code",
   "execution_count": 0,
   "metadata": {
    "colab": {},
    "colab_type": "code",
    "id": "bCoofyyPrykN"
   },
   "outputs": [],
   "source": [
    "#accuracy_score(y_val, clf_knn.predict(X_val_tfidf))\n",
    "# from sklearn.metrics import f1_score\n",
    "# f1_score(y_true, y_pred, average='macro') \n"
   ]
  },
  {
   "cell_type": "code",
   "execution_count": 0,
   "metadata": {
    "colab": {},
    "colab_type": "code",
    "id": "QwsseLsvlo3N"
   },
   "outputs": [],
   "source": [
    "#Random Forest\n",
    "# from sklearn.ensemble import RandomForestClassifier\n",
    "# clf_forest = RandomForestClassifier(random_state=2019,n_estimators=100).fit(X_train_tfidf, target)\n",
    "# #clf_forest = RandomForestClassifier(n_estimators=200, random_state=2019, min_samples_split=2, min_samples_leaf=2, criterion=\"entropy\", bootstrap=False).fit(X_train_tfidf, target)\n",
    "# y_pred = clf_forest.predict(X_test_tfidf)\n",
    "# y_pred"
   ]
  },
  {
   "cell_type": "code",
   "execution_count": 0,
   "metadata": {
    "colab": {},
    "colab_type": "code",
    "id": "LSYhy502mvrw"
   },
   "outputs": [],
   "source": [
    "#Naive Bayes\n",
    "# from sklearn.naive_bayes import MultinomialNB\n",
    "# clf_nb = MultinomialNB(alpha=1,random_state=2019).fit(X_train_tfidf, target)\n",
    "# y_pred = clf_nb.predict(X_test_tfidf)\n",
    "# y_pred"
   ]
  },
  {
   "cell_type": "code",
   "execution_count": 0,
   "metadata": {
    "colab": {},
    "colab_type": "code",
    "id": "JXbI4T0wG92O"
   },
   "outputs": [],
   "source": [
    "#Ridge Classifier\n",
    "# from sklearn.linear_model import RidgeClassifier\n",
    "# clf_rdg = RidgeClassifier(alpha=1000, random_state=2019).fit(X_train_tfidf, target)\n",
    "# #clf_rdg = RidgeClassifier(tol=1e+2, solver=\"sag\").fit(X_train_tfidf, target)\n",
    "# y_pred = clf_rdg.predict(X_test_tfidf)\n",
    "# y_pred"
   ]
  },
  {
   "cell_type": "code",
   "execution_count": 0,
   "metadata": {
    "colab": {},
    "colab_type": "code",
    "id": "24wCnThalWtC"
   },
   "outputs": [],
   "source": [
    "#Gradient Boosting\n",
    "# from sklearn.ensemble import GradientBoostingClassifier\n",
    "# #clf_gbc = GradientBoostingClassifier(random_state=2019).fit(X_train_tfidf, target)\n",
    "# clf_gbc = GradientBoostingClassifier(n_estimators=300,max_depth=5,random_state=2019).fit(X_train_tfidf, target)\n",
    "# y_pred = clf_gbc.predict(X_test_tfidf)\n",
    "# y_pred"
   ]
  },
  {
   "cell_type": "code",
   "execution_count": 0,
   "metadata": {
    "colab": {},
    "colab_type": "code",
    "id": "Dv2p4HQsjlyd"
   },
   "outputs": [],
   "source": [
    "#Ada Boost\n",
    "# from sklearn.ensemble import AdaBoostClassifier\n",
    "# clf_abc = AdaBoostClassifier(random_state=2019).fit(X_train_tfidf, target)\n",
    "# y_pred = clf_abc.predict(X_test_tfidf)\n",
    "# y_pred"
   ]
  },
  {
   "cell_type": "code",
   "execution_count": 0,
   "metadata": {
    "colab": {},
    "colab_type": "code",
    "id": "fOAlWGLWnUDL"
   },
   "outputs": [],
   "source": [
    "#XG Boost Classifier\n",
    "# from xgboost import XGBClassifier\n",
    "# clf_xgb = XGBClassifier(random_state=2019, params = {'learning_rate': 0.2, 'max_depth': 2, 'n_estimators':200, 'subsample':0.6, 'objective':'binary:logistic'}).fit(X_train_tfidf, target)\n",
    "# y_pred = clf_xgb.predict(X_test_tfidf)\n",
    "# y_pred"
   ]
  },
  {
   "cell_type": "markdown",
   "metadata": {
    "colab_type": "text",
    "id": "TZaONeyDZe77"
   },
   "source": [
    "\n",
    "## Predict on test data"
   ]
  },
  {
   "cell_type": "code",
   "execution_count": 19,
   "metadata": {
    "colab": {
     "base_uri": "https://localhost:8080/",
     "height": 34
    },
    "colab_type": "code",
    "id": "8dvp_PsanGiv",
    "outputId": "f325034c-cf23-46c0-d749-f817bc227a47"
   },
   "outputs": [
    {
     "data": {
      "text/plain": [
       "array([0, 0, 0, ..., 0, 0, 0], dtype=int64)"
      ]
     },
     "execution_count": 19,
     "metadata": {},
     "output_type": "execute_result"
    }
   ],
   "source": [
    "#Logistic Regression\n",
    "from sklearn.linear_model import LogisticRegression\n",
    "clf_log = LogisticRegression(random_state=2019, C=1000).fit(X_train_tfidf, target)\n",
    "#clf_log = LogisticRegression(random_state=2019, C=100).fit(X_train_tfidf, y_train)\n",
    "#clf_log = LogisticRegression(random_state=2019, solver='lbfgs',C=10).fit(X_train_tfidf, y_train)\n",
    "y_pred = clf_log.predict(X_test_tfidf)\n",
    "y_pred"
   ]
  },
  {
   "cell_type": "code",
   "execution_count": 20,
   "metadata": {
    "colab": {
     "base_uri": "https://localhost:8080/",
     "height": 102
    },
    "colab_type": "code",
    "id": "rhv1DglZfzdF",
    "outputId": "446c5b52-6538-4547-a2c9-f7d0c9ee4a12"
   },
   "outputs": [
    {
     "data": {
      "text/plain": [
       "LogisticRegression(C=1000, random_state=2019)"
      ]
     },
     "execution_count": 20,
     "metadata": {},
     "output_type": "execute_result"
    }
   ],
   "source": [
    "clf_log"
   ]
  },
  {
   "cell_type": "code",
   "execution_count": 21,
   "metadata": {
    "colab": {
     "base_uri": "https://localhost:8080/",
     "height": 102
    },
    "colab_type": "code",
    "id": "an6dBulFVur_",
    "outputId": "b63f7d7e-a5ba-4bbd-80fc-284f18dd4f0b"
   },
   "outputs": [
    {
     "name": "stdout",
     "output_type": "stream",
     "text": [
      "f1 score for C=10: 0.9283582089552238\n",
      "f1 score for C=50: 0.9957805907172996\n",
      "f1 score for C=100: 0.9978917779339423\n",
      "f1 score for C=1000: 0.9985955056179775\n",
      "f1 score for C=10000: 0.9985955056179775\n"
     ]
    }
   ],
   "source": [
    "for c in [10, 50, 100, 1000, 10000]:\n",
    "    lr = LogisticRegression(C=c, random_state=2019).fit(X_train_tfidf, target)\n",
    "    #lr = LogisticRegression(C=c, random_state=2019).fit(X_train_tfidf, y_train)\n",
    "    print (\"f1 score for C=%s: %s\" % (c, f1_score(y_val, lr.predict(X_val_tfidf))))\n",
    "\n",
    "#Accuracy for C=50: 0.9627717816361645\n",
    "#f1 score for C=1000: 0.999298245614035"
   ]
  },
  {
   "cell_type": "code",
   "execution_count": 22,
   "metadata": {
    "colab": {
     "base_uri": "https://localhost:8080/",
     "height": 34
    },
    "colab_type": "code",
    "id": "NfIlrOYdiMVt",
    "outputId": "0623d2a5-166c-4f71-85aa-6775f128b119"
   },
   "outputs": [
    {
     "name": "stdout",
     "output_type": "stream",
     "text": [
      "0.999241427473853\n"
     ]
    }
   ],
   "source": [
    "#print(f1_score(y_val, clf_log.predict(X_val_tfidf), average='micro'))\n",
    "print(f1_score(y_val, clf_log.predict(X_val_tfidf), average='macro'))\n",
    "#print(f1_score(y_val, clf_log.predict(X_val_tfidf), average='weighted'))"
   ]
  },
  {
   "cell_type": "markdown",
   "metadata": {
    "colab_type": "text",
    "id": "udQCKYepZYP1"
   },
   "source": [
    "## Submission"
   ]
  },
  {
   "cell_type": "code",
   "execution_count": 23,
   "metadata": {
    "colab": {
     "base_uri": "https://localhost:8080/",
     "height": 68
    },
    "colab_type": "code",
    "id": "csK_3cbBcjxK",
    "outputId": "ac5582c2-557d-42e5-fe7d-a857ff242c5c"
   },
   "outputs": [
    {
     "name": "stdout",
     "output_type": "stream",
     "text": [
      "0    16088\n",
      "1     1109\n",
      "Name: label, dtype: int64\n"
     ]
    }
   ],
   "source": [
    "submission = {}\n",
    "submission['id'] = test['id']\n",
    "submission['label'] = y_pred\n",
    "submission = pd.DataFrame(submission)\n",
    "submission = submission[['id', 'label']]\n",
    "submission.to_csv(\"submisision.csv\", index=False)\n",
    "print(submission['label'].value_counts())"
   ]
  }
 ],
 "metadata": {
  "accelerator": "GPU",
  "colab": {
   "collapsed_sections": [
    "-Y0ZFC6kUuHD"
   ],
   "name": "AV_practice_problem_Twitter_Sentiment_Analysis.ipynb",
   "provenance": [],
   "version": "0.3.2"
  },
  "kernelspec": {
   "display_name": "Python 3",
   "language": "python",
   "name": "python3"
  },
  "language_info": {
   "codemirror_mode": {
    "name": "ipython",
    "version": 3
   },
   "file_extension": ".py",
   "mimetype": "text/x-python",
   "name": "python",
   "nbconvert_exporter": "python",
   "pygments_lexer": "ipython3",
   "version": "3.8.5"
  }
 },
 "nbformat": 4,
 "nbformat_minor": 1
}
