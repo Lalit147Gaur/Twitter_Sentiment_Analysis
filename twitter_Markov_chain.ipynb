{
 "cells": [
  {
   "cell_type": "code",
   "execution_count": 13,
   "metadata": {},
   "outputs": [],
   "source": [
    "import warnings \n",
    "warnings.filterwarnings(\"ignore\", category=DeprecationWarning)\n",
    "import pandas as pd, textblob, string\n",
    "pd.set_option('display.max_colwidth' , None) #To show the whole tweet field\n",
    "import numpy as np\n",
    "import random\n",
    "from sklearn.model_selection import train_test_split\n",
    "from sklearn.pipeline import Pipeline\n",
    "from sklearn.feature_extraction.text import TfidfVectorizer, CountVectorizer, TfidfTransformer\n",
    "from sklearn.naive_bayes import MultinomialNB\n",
    "from sklearn import metrics,svm\n",
    "import seaborn as pl\n",
    "import re\n",
    "from nltk.tokenize import WordPunctTokenizer\n",
    "from bs4 import BeautifulSoup"
   ]
  },
  {
   "cell_type": "code",
   "execution_count": 14,
   "metadata": {},
   "outputs": [
    {
     "name": "stdout",
     "output_type": "stream",
     "text": [
      "Training Set: (31962, 3) 31962\n",
      "Test Set: (17197, 2) 17197\n",
      "Positive:  92.98542018647143 %\n",
      "Negative:  7.014579813528565 %\n"
     ]
    },
    {
     "name": "stderr",
     "output_type": "stream",
     "text": [
      "C:\\Users\\lalit.gaur\\Anaconda3\\lib\\site-packages\\seaborn\\_decorators.py:36: FutureWarning: Pass the following variable as a keyword arg: x. From version 0.12, the only valid positional argument will be `data`, and passing other arguments without an explicit keyword will result in an error or misinterpretation.\n",
      "  warnings.warn(\n"
     ]
    },
    {
     "data": {
      "text/plain": [
       "<AxesSubplot:xlabel='label', ylabel='count'>"
      ]
     },
     "execution_count": 14,
     "metadata": {},
     "output_type": "execute_result"
    },
    {
     "data": {
      "image/png": "[encoded data removed]",
      "text/plain": [
       "<Figure size 432x288 with 1 Axes>"
      ]
     },
     "metadata": {
      "needs_background": "light"
     },
     "output_type": "display_data"
    }
   ],
   "source": [
    "#Import Training and Testing Data\n",
    "train = pd.read_csv(r\"D:\\Task\\Analytics_Vidhya\\Twitter_Sentiment_Analysis\\train_E6oV3lV.csv\")\n",
    "print(\"Training Set:\"% train.columns, train.shape, len(train))\n",
    "test = pd.read_csv(r\"D:\\Task\\Analytics_Vidhya\\Twitter_Sentiment_Analysis\\test_tweets_anuFYb8.csv\")\n",
    "print(\"Test Set:\"% test.columns, test.shape, len(test))\n",
    "#Percentage of Positive/Negative\n",
    "print(\"Positive: \", train.label.value_counts()[0]/len(train)*100,\"%\")\n",
    "print(\"Negative: \", train.label.value_counts()[1]/len(train)*100,\"%\")\n",
    "#Show a bar chart to explore the difference in classes\n",
    "pl.countplot(train[\"label\"])"
   ]
  },
  {
   "cell_type": "code",
   "execution_count": 15,
   "metadata": {},
   "outputs": [
    {
     "data": {
      "text/html": [
       "<div>\n",
       "<style scoped>\n",
       "    .dataframe tbody tr th:only-of-type {\n",
       "        vertical-align: middle;\n",
       "    }\n",
       "\n",
       "    .dataframe tbody tr th {\n",
       "        vertical-align: top;\n",
       "    }\n",
       "\n",
       "    .dataframe thead th {\n",
       "        text-align: right;\n",
       "    }\n",
       "</style>\n",
       "<table border=\"1\" class=\"dataframe\">\n",
       "  <thead>\n",
       "    <tr style=\"text-align: right;\">\n",
       "      <th></th>\n",
       "      <th>id</th>\n",
       "      <th>label</th>\n",
       "      <th>tweet</th>\n",
       "    </tr>\n",
       "  </thead>\n",
       "  <tbody>\n",
       "    <tr>\n",
       "      <th>0</th>\n",
       "      <td>1</td>\n",
       "      <td>0</td>\n",
       "      <td>@user when a father is dysfunctional and is so selfish he drags his kids into his dysfunction.   #run</td>\n",
       "    </tr>\n",
       "    <tr>\n",
       "      <th>1</th>\n",
       "      <td>2</td>\n",
       "      <td>0</td>\n",
       "      <td>@user @user thanks for #lyft credit i can't use cause they don't offer wheelchair vans in pdx.    #disapointed #getthanked</td>\n",
       "    </tr>\n",
       "    <tr>\n",
       "      <th>2</th>\n",
       "      <td>3</td>\n",
       "      <td>0</td>\n",
       "      <td>bihday your majesty</td>\n",
       "    </tr>\n",
       "    <tr>\n",
       "      <th>3</th>\n",
       "      <td>4</td>\n",
       "      <td>0</td>\n",
       "      <td>#model   i love u take with u all the time in urð±!!! ðððð",
       "ð¦ð¦ð¦</td>\n",
       "    </tr>\n",
       "    <tr>\n",
       "      <th>4</th>\n",
       "      <td>5</td>\n",
       "      <td>0</td>\n",
       "      <td>factsguide: society now    #motivation</td>\n",
       "    </tr>\n",
       "  </tbody>\n",
       "</table>\n",
       "</div>"
      ],
      "text/plain": [
       "   id  label  \\\n",
       "0   1      0   \n",
       "1   2      0   \n",
       "2   3      0   \n",
       "3   4      0   \n",
       "4   5      0   \n",
       "\n",
       "                                                                                                                        tweet  \n",
       "0                       @user when a father is dysfunctional and is so selfish he drags his kids into his dysfunction.   #run  \n",
       "1  @user @user thanks for #lyft credit i can't use cause they don't offer wheelchair vans in pdx.    #disapointed #getthanked  \n",
       "2                                                                                                         bihday your majesty  \n",
       "3                                      #model   i love u take with u all the time in urð±!!! ðððð\n",
       "ð¦ð¦ð¦    \n",
       "4                                                                                      factsguide: society now    #motivation  "
      ]
     },
     "execution_count": 15,
     "metadata": {},
     "output_type": "execute_result"
    }
   ],
   "source": [
    "train.head()"
   ]
  },
  {
   "cell_type": "code",
   "execution_count": 16,
   "metadata": {},
   "outputs": [],
   "source": [
    "tok = WordPunctTokenizer()\n",
    "pat1 = r'@[A-Za-z0-9]+'\n",
    "pat2 = r'https?://[A-Za-z0-9/]+'\n",
    "combined_pat = r'|'.join((pat1, pat2))\n",
    "def tweet_cleaner(text):\n",
    "    soup = BeautifulSoup(text, 'lxml')\n",
    "    souped = soup.get_text()\n",
    "    stripped = re.sub(combined_pat, '', souped)\n",
    "    try:\n",
    "        clean = stripped.decode(\"utf-8-sig\").replace(u\"\\ufffd\", \"?\")\n",
    "    except:\n",
    "        clean = stripped\n",
    "    letters_only = re.sub(\"[^a-zA-Z]\", \" \", clean)    \n",
    "    # During the letters_only process two lines above, it has created unnecessay white spaces,\n",
    "    # I will tokenize and join together to remove unneccessary white spaces\n",
    "    words = tok.tokenize(letters_only)    \n",
    "    sentence=[]\n",
    "    for word in words:\n",
    "        sentence.append(word)\n",
    "        sentence.append(\" \")\n",
    "    words=\"\".join(sentence).strip()    \n",
    "    return words\n",
    "nums = [0,len(train)]\n",
    "clean_tweet_texts = []\n",
    "for i in range(nums[0],nums[1]):\n",
    "    clean_tweet_texts.append(tweet_cleaner(train['tweet'][i]))\n",
    "nums = [0,len(test)]\n",
    "test_tweet_texts = []\n",
    "for i in range(nums[0],nums[1]):\n",
    "    test_tweet_texts.append(tweet_cleaner(test['tweet'][i]))\n",
    "train_clean = pd.DataFrame(clean_tweet_texts,columns=['tweet'])\n",
    "train_clean['label'] = train.label\n",
    "train_clean['id'] = train.id\n",
    "test_clean = pd.DataFrame(test_tweet_texts,columns=['tweet'])\n",
    "test_clean['id'] = test.id"
   ]
  },
  {
   "cell_type": "code",
   "execution_count": 19,
   "metadata": {},
   "outputs": [
    {
     "data": {
      "text/html": [
       "<div>\n",
       "<style scoped>\n",
       "    .dataframe tbody tr th:only-of-type {\n",
       "        vertical-align: middle;\n",
       "    }\n",
       "\n",
       "    .dataframe tbody tr th {\n",
       "        vertical-align: top;\n",
       "    }\n",
       "\n",
       "    .dataframe thead th {\n",
       "        text-align: right;\n",
       "    }\n",
       "</style>\n",
       "<table border=\"1\" class=\"dataframe\">\n",
       "  <thead>\n",
       "    <tr style=\"text-align: right;\">\n",
       "      <th></th>\n",
       "      <th>id</th>\n",
       "      <th>label</th>\n",
       "      <th>tweet</th>\n",
       "    </tr>\n",
       "  </thead>\n",
       "  <tbody>\n",
       "    <tr>\n",
       "      <th>13</th>\n",
       "      <td>14</td>\n",
       "      <td>1</td>\n",
       "      <td>@user #cnn calls #michigan middle school 'build the wall' chant '' #tcot</td>\n",
       "    </tr>\n",
       "    <tr>\n",
       "      <th>14</th>\n",
       "      <td>15</td>\n",
       "      <td>1</td>\n",
       "      <td>no comment!  in #australia   #opkillingbay #seashepherd #helpcovedolphins #thecove  #helpcovedolphins</td>\n",
       "    </tr>\n",
       "    <tr>\n",
       "      <th>17</th>\n",
       "      <td>18</td>\n",
       "      <td>1</td>\n",
       "      <td>retweet if you agree!</td>\n",
       "    </tr>\n",
       "    <tr>\n",
       "      <th>23</th>\n",
       "      <td>24</td>\n",
       "      <td>1</td>\n",
       "      <td>@user @user lumpy says i am a . prove it lumpy.</td>\n",
       "    </tr>\n",
       "    <tr>\n",
       "      <th>34</th>\n",
       "      <td>35</td>\n",
       "      <td>1</td>\n",
       "      <td>it's unbelievable that in the 21st century we'd need something like this. again. #neverump  #xenophobia</td>\n",
       "    </tr>\n",
       "  </tbody>\n",
       "</table>\n",
       "</div>"
      ],
      "text/plain": [
       "    id  label  \\\n",
       "13  14      1   \n",
       "14  15      1   \n",
       "17  18      1   \n",
       "23  24      1   \n",
       "34  35      1   \n",
       "\n",
       "                                                                                                       tweet  \n",
       "13                                @user #cnn calls #michigan middle school 'build the wall' chant '' #tcot    \n",
       "14     no comment!  in #australia   #opkillingbay #seashepherd #helpcovedolphins #thecove  #helpcovedolphins  \n",
       "17                                                                                    retweet if you agree!   \n",
       "23                                                           @user @user lumpy says i am a . prove it lumpy.  \n",
       "34  it's unbelievable that in the 21st century we'd need something like this. again. #neverump  #xenophobia   "
      ]
     },
     "execution_count": 19,
     "metadata": {},
     "output_type": "execute_result"
    }
   ],
   "source": [
    "train[train['label']==1].head()"
   ]
  },
  {
   "cell_type": "code",
   "execution_count": 20,
   "metadata": {},
   "outputs": [
    {
     "data": {
      "text/html": [
       "<div>\n",
       "<style scoped>\n",
       "    .dataframe tbody tr th:only-of-type {\n",
       "        vertical-align: middle;\n",
       "    }\n",
       "\n",
       "    .dataframe tbody tr th {\n",
       "        vertical-align: top;\n",
       "    }\n",
       "\n",
       "    .dataframe thead th {\n",
       "        text-align: right;\n",
       "    }\n",
       "</style>\n",
       "<table border=\"1\" class=\"dataframe\">\n",
       "  <thead>\n",
       "    <tr style=\"text-align: right;\">\n",
       "      <th></th>\n",
       "      <th>tweet</th>\n",
       "      <th>label</th>\n",
       "      <th>id</th>\n",
       "    </tr>\n",
       "  </thead>\n",
       "  <tbody>\n",
       "    <tr>\n",
       "      <th>13</th>\n",
       "      <td>cnn calls michigan middle school build the wall chant tcot</td>\n",
       "      <td>1</td>\n",
       "      <td>14</td>\n",
       "    </tr>\n",
       "    <tr>\n",
       "      <th>14</th>\n",
       "      <td>no comment in australia opkillingbay seashepherd helpcovedolphins thecove helpcovedolphins</td>\n",
       "      <td>1</td>\n",
       "      <td>15</td>\n",
       "    </tr>\n",
       "    <tr>\n",
       "      <th>17</th>\n",
       "      <td>retweet if you agree</td>\n",
       "      <td>1</td>\n",
       "      <td>18</td>\n",
       "    </tr>\n",
       "    <tr>\n",
       "      <th>23</th>\n",
       "      <td>lumpy says i am a prove it lumpy</td>\n",
       "      <td>1</td>\n",
       "      <td>24</td>\n",
       "    </tr>\n",
       "    <tr>\n",
       "      <th>34</th>\n",
       "      <td>it s unbelievable that in the st century we d need something like this again neverump xenophobia</td>\n",
       "      <td>1</td>\n",
       "      <td>35</td>\n",
       "    </tr>\n",
       "  </tbody>\n",
       "</table>\n",
       "</div>"
      ],
      "text/plain": [
       "                                                                                               tweet  \\\n",
       "13                                        cnn calls michigan middle school build the wall chant tcot   \n",
       "14        no comment in australia opkillingbay seashepherd helpcovedolphins thecove helpcovedolphins   \n",
       "17                                                                              retweet if you agree   \n",
       "23                                                                  lumpy says i am a prove it lumpy   \n",
       "34  it s unbelievable that in the st century we d need something like this again neverump xenophobia   \n",
       "\n",
       "    label  id  \n",
       "13      1  14  \n",
       "14      1  15  \n",
       "17      1  18  \n",
       "23      1  24  \n",
       "34      1  35  "
      ]
     },
     "execution_count": 20,
     "metadata": {},
     "output_type": "execute_result"
    }
   ],
   "source": [
    "train_clean[train_clean['label']==1].head()"
   ]
  },
  {
   "cell_type": "code",
   "execution_count": 21,
   "metadata": {},
   "outputs": [],
   "source": [
    "#constructing the normalized mapping (Outer Dictionary)\n",
    "tempMapping = {}\n",
    "'''tuple of words) -> {dict: word -> *normalized* number of times the word appears following the tuple}\n",
    "Example: {('cnn', 'calls'): {'michigan': 1.0}\n",
    "Contains the set of words that can start sentences'''\n",
    "mapping = {}\n",
    "starts = []\n",
    "'''We want to be able to compare words independent of their capitalization. This is not strong case here as all data set consists of tweets which are normalized to small letter.'''\n",
    "def fixCaps(word):\n",
    "    # Ex: \"FOO\" -> \"foo\"\n",
    "    if word.isupper() and word != \"I\":\n",
    "        word = word.lower()\n",
    "        # Ex: \"LaTeX\" => \"Latex\"\n",
    "    elif word [0].isupper():\n",
    "        word = word.lower().capitalize()\n",
    "        # Ex: \"wOOt\" -> \"woot\"\n",
    "    else:\n",
    "        word = word.lower()\n",
    "    return word\n",
    "#Create Dictionary keys\n",
    "def toHashKey(lst):\n",
    "    return tuple(lst)\n",
    "'''Returns the tweets, split into a list of words by adding . to the end of each tweet, there are no punctuation.'''\n",
    "def wordlist(data):\n",
    "    split_it = '. '.join([text for text in data])\n",
    "    wordlist = [fixCaps(w) for w in re.findall(r\"[\\w']+|[.,!?;]\", split_it)]    \n",
    "    return wordlist\n",
    "'''addItemToTempMapping -- adds \"word\" to the \"tempMapping\" dict under \"history\".\n",
    "tempMapping (and mapping) both match each word to a list of possible next words.\n",
    "Given history = [\"the\", \"rain\", \"in\"] and word = \"Spain\", we add \"Spain\" to\n",
    "the entries for [\"the\", \"rain\", \"in\"], [\"rain\", \"in\"], and [\"in\"].'''\n",
    "def addItemToTempMapping(history, word):\n",
    "    global tempMapping\n",
    "    while len(history) > 0:\n",
    "        first = toHashKey(history)\n",
    "        if first in tempMapping:\n",
    "            if word in tempMapping[first]:\n",
    "                tempMapping[first][word] += 1.0\n",
    "            else:\n",
    "                tempMapping[first][word] = 1.0\n",
    "        else:\n",
    "            tempMapping[first] = {}\n",
    "            tempMapping[first][word] = 1.0\n",
    "        history = history[1:]\n",
    "# Building and normalizing the mapping\n",
    "def buildMapping(wordlist, markovLength):\n",
    "    global tempMapping\n",
    "    starts.append(wordlist [0])\n",
    "    for i in range(1, len(wordlist) - 1):\n",
    "        if i <= markovLength:\n",
    "            history = wordlist[: i + 1]\n",
    "        else:\n",
    "            history = wordlist[i - markovLength + 1 : i + 1]\n",
    "        follow = wordlist[i + 1]\n",
    "        '''if the last elt was a period, add the next word to the start list'''\n",
    "        if history[-1] == \".\" and follow not in \".,!?;\":\n",
    "            starts.append(follow)\n",
    "        addItemToTempMapping(history, follow)\n",
    "    # Normalize the values in tempMapping, put them into mapping\n",
    "    for first, followset in tempMapping.items():\n",
    "        total = sum(followset.values())\n",
    "        # Normalizing here:\n",
    "        mapping[first] = dict([(k, v / total) for k, v in followset.items()])\n",
    "# Returns the next word in the sentence (chosen randomly),\n",
    "# given the previous ones.\n",
    "def next(prevList):\n",
    "    sum = 0.0\n",
    "    retval = \"\"\n",
    "    index = random.random()\n",
    "    # Shorten prevList until it's in mapping\n",
    "    while toHashKey(prevList) not in mapping:\n",
    "        try:\n",
    "            prevList.pop(0)\n",
    "        except:\n",
    "            prevList=random.choice(starts)\n",
    "    # Get a random word from the mapping, given prevList\n",
    "    for k, v in mapping[toHashKey(prevList)].items():\n",
    "        sum += v\n",
    "        if sum >= index and retval == \"\":\n",
    "            retval = k\n",
    "    return retval\n",
    "def genSentence(markovLength):\n",
    "    # Start with a random \"starting word\"\n",
    "    curr = random.choice(starts)\n",
    "    sent = curr.capitalize()\n",
    "    prevList = [curr]\n",
    "    # Keep adding words until we hit a period\n",
    "    while (curr not in \".\"):\n",
    "        curr = next(prevList)\n",
    "        prevList.append(curr)        \n",
    "        # if the prevList has gotten too long, trim it\n",
    "        if len(prevList) > markovLength:\n",
    "            prevList.pop(0)\n",
    "        if (curr not in \".,!?;\"):\n",
    "            sent += \" \" # Add spaces between words (but not punctuation)\n",
    "        sent += curr\n",
    "    return sent"
   ]
  },
  {
   "cell_type": "code",
   "execution_count": 22,
   "metadata": {},
   "outputs": [
    {
     "name": "stdout",
     "output_type": "stream",
     "text": [
      "(2011, 2)\n",
      "(4090, 2)\n",
      "(6150, 2)\n"
     ]
    }
   ],
   "source": [
    "#extracting racist/sexist tweets\n",
    "negativeTweets=train_clean[train_clean['label']==1]\n",
    "newlyGeneratedTweets=pd.DataFrame()\n",
    "#Repeat with the New Sentences for 3 times\n",
    "for i in range(3):\n",
    "    data = negativeTweets['tweet']\n",
    "    markovLength = 2\n",
    "    numberofsentences=data.size\n",
    "    buildMapping(wordlist(data), markovLength)\n",
    "    newTweets = []\n",
    "    for i in range(numberofsentences):\n",
    "        newTweet=genSentence(markovLength)\n",
    "        # Sentence should have more than 10 chatachters\n",
    "        if len(newTweet) > 15:\n",
    "            newTweets.append(newTweet)\n",
    "    d={'tweet':newTweets,'label':1}\n",
    "    df=pd.DataFrame(data=d)\n",
    "    newlyGeneratedTweets=newlyGeneratedTweets.append(df)\n",
    "    newlyGeneratedTweets=newlyGeneratedTweets.reset_index()\n",
    "    newlyGeneratedTweets=newlyGeneratedTweets.drop(['index'], axis=1)\n",
    "    print(newlyGeneratedTweets.shape)"
   ]
  },
  {
   "cell_type": "code",
   "execution_count": 23,
   "metadata": {},
   "outputs": [
    {
     "name": "stdout",
     "output_type": "stream",
     "text": [
      "Positive:  77.9806884970613 %\n",
      "Negative:  22.019311502938706 %\n"
     ]
    },
    {
     "name": "stderr",
     "output_type": "stream",
     "text": [
      "C:\\Users\\lalit.gaur\\Anaconda3\\lib\\site-packages\\seaborn\\_decorators.py:36: FutureWarning: Pass the following variable as a keyword arg: x. From version 0.12, the only valid positional argument will be `data`, and passing other arguments without an explicit keyword will result in an error or misinterpretation.\n",
      "  warnings.warn(\n"
     ]
    },
    {
     "data": {
      "text/plain": [
       "<AxesSubplot:xlabel='label', ylabel='count'>"
      ]
     },
     "execution_count": 23,
     "metadata": {},
     "output_type": "execute_result"
    },
    {
     "data": {
      "image/png": "[encoded data removed]",
      "text/plain": [
       "<Figure size 432x288 with 1 Axes>"
      ]
     },
     "metadata": {
      "needs_background": "light"
     },
     "output_type": "display_data"
    }
   ],
   "source": [
    "train_cl=train_clean.append(newlyGeneratedTweets)\n",
    "#train_cl=train_cl.append(hateTweets)\n",
    "train_cl=train_cl.drop(['id'], axis=1)\n",
    "#Percentage of Positive/Negative\n",
    "print(\"Positive: \", train_cl.label.value_counts()[0]/len(train_cl)*100,\"%\")\n",
    "print(\"Negative: \", train_cl.label.value_counts()[1]/len(train_cl)*100,\"%\")\n",
    "pl.countplot(train_cl[\"label\"])"
   ]
  },
  {
   "cell_type": "code",
   "execution_count": 24,
   "metadata": {},
   "outputs": [
    {
     "name": "stdout",
     "output_type": "stream",
     "text": [
      "0.9705464868701207\n"
     ]
    }
   ],
   "source": [
    "# Remove small tweets\n",
    "train_cl=train_cl[train_cl['tweet'].str.len()>15]\n",
    "x_train, x_test, y_train, y_test = train_test_split(train_cl['tweet'],train_cl['label'], test_size=0.33, random_state=42)\n",
    "pr=Pipeline([('vect', CountVectorizer(ngram_range=(1, 2))),\n",
    "                     ('tfidf', TfidfTransformer(use_idf=True, norm='l2')),\n",
    "                     ('clf', MultinomialNB(alpha=0.02))])\n",
    "pr.fit(x_train, y_train)\n",
    "predictions = pr.predict(x_test)\n",
    "f1Score=metrics.f1_score(y_test,predictions)\n",
    "print(f1Score)"
   ]
  },
  {
   "cell_type": "code",
   "execution_count": 25,
   "metadata": {},
   "outputs": [],
   "source": [
    "#Now working with Real challenge Data\n",
    "train_x=train_cl['tweet']\n",
    "valid_x=test_clean['tweet']\n",
    "train_y=train_cl['label']\n",
    "pr=Pipeline([('vect', CountVectorizer(ngram_range=(1, 2))),\n",
    "                     ('tfidf', TfidfTransformer(use_idf=True, norm='l2')),\n",
    "                     ('clf', MultinomialNB(alpha=0.02))])\n",
    "pr.fit(x_train, y_train)\n",
    "predictions = pr.predict(valid_x)\n",
    "d={'id':test['id'],'label':predictions}\n",
    "df=pd.DataFrame(data=d)\n",
    "df.to_csv(\"test_predictions_MultiNomialNB_Markov.csv\", index=False)"
   ]
  },
  {
   "cell_type": "code",
   "execution_count": null,
   "metadata": {},
   "outputs": [],
   "source": []
  }
 ],
 "metadata": {
  "kernelspec": {
   "display_name": "Python 3",
   "language": "python",
   "name": "python3"
  },
  "language_info": {
   "codemirror_mode": {
    "name": "ipython",
    "version": 3
   },
   "file_extension": ".py",
   "mimetype": "text/x-python",
   "name": "python",
   "nbconvert_exporter": "python",
   "pygments_lexer": "ipython3",
   "version": "3.8.5"
  }
 },
 "nbformat": 4,
 "nbformat_minor": 4
}
